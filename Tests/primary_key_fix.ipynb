{
 "cells": [
  {
   "cell_type": "code",
   "execution_count": 1,
   "metadata": {},
   "outputs": [],
   "source": [
    "import os\n",
    "\n",
    "from sqlalchemy import create_engine\n",
    "\n",
    "PATH = 'sqlite:///top20_pk.sqlite'\n",
    "TABLE_NAME = 'top20'\n",
    "INDEX_COLUMN = 'id'\n",
    "#SOURCE_SQL = f\"SELECT * FROM {TABLE_NAME};\""
   ]
  },
  {
   "cell_type": "code",
   "execution_count": 2,
   "metadata": {},
   "outputs": [],
   "source": [
    "def add_primary_key():\n",
    "    target_engine = create_engine(PATH)\n",
    "    target_conn = target_engine.connect()\n",
    "\n",
    "    # sqlalchemy will not detect table without PK. This seems to be the best\n",
    "    # solution (https://stackoverflow.com/q/50469391)\n",
    "    target_engine.execute(\n",
    "        f'ALTER TABLE {TABLE_NAME} ADD PRIMARY KEY ({INDEX_COLUMN});')\n",
    "    print(f\"Primary key:{INDEX_COLUMN} added to table: {TABLE_NAME}\")"
   ]
  },
  {
   "cell_type": "code",
   "execution_count": null,
   "metadata": {},
   "outputs": [],
   "source": [
    "add_primary_key()"
   ]
  }
 ],
 "metadata": {
  "kernelspec": {
   "display_name": "dev",
   "language": "python",
   "name": "python3"
  },
  "language_info": {
   "codemirror_mode": {
    "name": "ipython",
    "version": 3
   },
   "file_extension": ".py",
   "mimetype": "text/x-python",
   "name": "python",
   "nbconvert_exporter": "python",
   "pygments_lexer": "ipython3",
   "version": "3.10.11"
  },
  "orig_nbformat": 4
 },
 "nbformat": 4,
 "nbformat_minor": 2
}
