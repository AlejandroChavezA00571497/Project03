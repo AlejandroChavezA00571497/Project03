{
 "cells": [
  {
   "cell_type": "code",
   "execution_count": 1,
   "metadata": {},
   "outputs": [],
   "source": [
    "import csv\n",
    "import sqlite3\n",
    " \n",
    " \n"
   ]
  },
  {
   "cell_type": "code",
   "execution_count": null,
   "metadata": {},
   "outputs": [],
   "source": [
    "try:\n",
    " \n",
    "    # Import csv and extract data\n",
    "    with open('top20.csv', 'r') as fin:\n",
    "        dr = csv.DictReader(fin)\n",
    "        all_info = [(i['id'], i['timestamp'], i['company'], i['level'], i['title'], i['totalyearlycompensation'], i['location'], i['yearsofexperience'], i['yearsatcompany'], i['tag'], i['gender'], i['cityid'], i['dmaid'], i['rownumber'], i['mastersdegree'], i['bachelorsdegree'], i['doctoratedegree'], i['raceasian'], i['racewhite'], i['racetwoormore'], i['raceblack'], i['racehispanic']) for i in dr]\n",
    "        print(all_info)\n",
    " \n",
    "    # Connect to SQLite\n",
    "    sqliteConnection = sqlite3.connect('sql.db')\n",
    "    cursor = sqliteConnection.cursor()\n",
    " \n",
    "    # Create student table\n",
    "    cursor.execute('create table student(name varchar2(10), age int);')\n",
    " \n",
    "    # Insert data into table\n",
    "    cursor.executemany(\n",
    "        \"insert into student (name, age) VALUES (?, ?);\", student_info)\n",
    " \n",
    "    # Show student table\n",
    "    cursor.execute('select * from student;')\n",
    " \n",
    "    # View result\n",
    "    result = cursor.fetchall()\n",
    "    print(result)\n",
    " \n",
    "    # Commit work and close connection\n",
    "    sqliteConnection.commit()\n",
    "    cursor.close()\n",
    " \n",
    "except sqlite3.Error as error:\n",
    "    print('Error occurred - ', error)\n",
    " \n",
    "finally:\n",
    "    if sqliteConnection:\n",
    "        sqliteConnection.close()\n",
    "        print('SQLite Connection closed')"
   ]
  }
 ],
 "metadata": {
  "kernelspec": {
   "display_name": "Python 3 (ipykernel)",
   "language": "python",
   "name": "python3"
  },
  "language_info": {
   "codemirror_mode": {
    "name": "ipython",
    "version": 3
   },
   "file_extension": ".py",
   "mimetype": "text/x-python",
   "name": "python",
   "nbconvert_exporter": "python",
   "pygments_lexer": "ipython3",
   "version": "3.10.9"
  },
  "orig_nbformat": 4
 },
 "nbformat": 4,
 "nbformat_minor": 2
}
