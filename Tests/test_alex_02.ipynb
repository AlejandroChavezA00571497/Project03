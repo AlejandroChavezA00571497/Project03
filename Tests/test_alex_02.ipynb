{
 "cells": [
  {
   "cell_type": "markdown",
   "metadata": {},
   "source": [
    "# Creando SQLite"
   ]
  },
  {
   "cell_type": "code",
   "execution_count": 1,
   "metadata": {},
   "outputs": [],
   "source": [
    "import csv\n",
    "import sqlite3"
   ]
  },
  {
   "cell_type": "code",
   "execution_count": null,
   "metadata": {},
   "outputs": [],
   "source": [
    "try:\n",
    " \n",
    "    # Import csv and extract data\n",
    "    with open('student_info.csv', 'r') as fin:\n",
    "        dr = csv.DictReader(fin)\n",
    "        student_info = [(i['NAME'], i['AGE']) for i in dr]\n",
    "        print(student_info)\n",
    " \n",
    "    # Connect to SQLite\n",
    "    sqliteConnection = sqlite3.connect('sql.db')\n",
    "    cursor = sqliteConnection.cursor()\n",
    " \n",
    "    # Create student table\n",
    "    cursor.execute('create table student(name varchar2(10), age int);')\n",
    " \n",
    "    # Insert data into table\n",
    "    cursor.executemany(\n",
    "        \"insert into student (name, age) VALUES (?, ?);\", student_info)\n",
    " \n",
    "    # Show student table\n",
    "    cursor.execute('select * from student;')\n",
    " \n",
    "    # View result\n",
    "    result = cursor.fetchall()\n",
    "    print(result)\n",
    " \n",
    "    # Commit work and close connection\n",
    "    sqliteConnection.commit()\n",
    "    cursor.close()\n",
    " \n",
    "except sqlite3.Error as error:\n",
    "    print('Error occurred - ', error)\n",
    " \n",
    "finally:\n",
    "    if sqliteConnection:\n",
    "        sqliteConnection.close()\n",
    "        print('SQLite Connection closed')"
   ]
  }
 ],
 "metadata": {
  "kernelspec": {
   "display_name": "base",
   "language": "python",
   "name": "python3"
  },
  "language_info": {
   "codemirror_mode": {
    "name": "ipython",
    "version": 3
   },
   "file_extension": ".py",
   "mimetype": "text/x-python",
   "name": "python",
   "nbconvert_exporter": "python",
   "pygments_lexer": "ipython3",
   "version": "3.9.12"
  },
  "orig_nbformat": 4
 },
 "nbformat": 4,
 "nbformat_minor": 2
}
