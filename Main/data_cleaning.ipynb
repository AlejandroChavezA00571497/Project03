{
 "cells": [
  {
   "cell_type": "markdown",
   "metadata": {},
   "source": [
    "# Importando, limpiando y exportando Database"
   ]
  },
  {
   "cell_type": "code",
   "execution_count": null,
   "metadata": {},
   "outputs": [],
   "source": [
    "import pandas as pd \n",
    "import numpy as np\n",
    "import matplotlib.pyplot as plt\n",
    "import seaborn as sns\n"
   ]
  },
  {
   "cell_type": "code",
   "execution_count": null,
   "metadata": {},
   "outputs": [],
   "source": [
    "pd.set_option('display.max_columns', None)"
   ]
  },
  {
   "cell_type": "code",
   "execution_count": null,
   "metadata": {},
   "outputs": [],
   "source": [
    "#Leo el Dataset\n",
    "\n",
    "df = pd.read_csv(\"../Databases/project3_salaries_initial.csv\")\n",
    "df"
   ]
  },
  {
   "cell_type": "code",
   "execution_count": null,
   "metadata": {},
   "outputs": [],
   "source": [
    "#Renombro las columnas para que todas tengan el formato de lowercase y pegado\n",
    "\n",
    "df.rename(columns={'rowNumber': 'rownumber', 'Masters_Degree' : 'mastersdegree', 'Bachelors_Degree':'bachelorsdegree', 'Doctorate_Degree':'doctoratedegree', 'Highschool':'highschool', 'Some_College':'somecollege','Race_Asian':'raceasian', 'Race_White':'racewhite', 'Race_Two_Or_More':'racetwoormore', 'Race_Black':'raceblack', 'Race_Hispanic':'racehispanic','Race':'race', 'Education':'education'}, inplace=True)"
   ]
  },
  {
   "cell_type": "code",
   "execution_count": null,
   "metadata": {},
   "outputs": [],
   "source": [
    "#Info general del df\n",
    "\n",
    "df.info()"
   ]
  },
  {
   "cell_type": "code",
   "execution_count": null,
   "metadata": {},
   "outputs": [],
   "source": [
    "#Cuenta de valores NaN por columna\n",
    "\n",
    "df.isnull().sum()"
   ]
  },
  {
   "cell_type": "code",
   "execution_count": null,
   "metadata": {},
   "outputs": [],
   "source": [
    "#Cuenta de valores duplicados\n",
    "\n",
    "df.duplicated().sum()"
   ]
  },
  {
   "cell_type": "code",
   "execution_count": null,
   "metadata": {},
   "outputs": [],
   "source": [
    "#Datos estadísticos de las columnas con valores numéricos\n",
    "\n",
    "df.describe()"
   ]
  },
  {
   "cell_type": "code",
   "execution_count": null,
   "metadata": {},
   "outputs": [],
   "source": [
    "#Valores únicos por columna\n",
    "\n",
    "df.nunique()"
   ]
  },
  {
   "cell_type": "code",
   "execution_count": null,
   "metadata": {},
   "outputs": [],
   "source": [
    "#Distribución de empresas\n",
    "\n",
    "df[\"company\"].value_counts()"
   ]
  },
  {
   "cell_type": "code",
   "execution_count": null,
   "metadata": {},
   "outputs": [],
   "source": [
    "#Distribución de puestos\n",
    "\n",
    "df[\"title\"].value_counts()"
   ]
  },
  {
   "cell_type": "code",
   "execution_count": null,
   "metadata": {},
   "outputs": [],
   "source": [
    "#Quitamos columnas\n",
    "\n",
    "df.drop(columns=[\"race\", \"education\", \"otherdetails\", \"highschool\", \"somecollege\", \"basesalary\", \"stockgrantvalue\",\"bonus\"], inplace = True)\n",
    "df"
   ]
  },
  {
   "cell_type": "code",
   "execution_count": null,
   "metadata": {},
   "outputs": [],
   "source": [
    "#Distribución de empresas después de hacer todo lowercase\n",
    "\n",
    "df[\"company\"] = df[\"company\"].str.lower()\n",
    "df[\"company\"].value_counts().head(20)"
   ]
  },
  {
   "cell_type": "code",
   "execution_count": null,
   "metadata": {},
   "outputs": [],
   "source": [
    "#Estandarizar Timestamps\n",
    "\n",
    "#pd.to_datetime(df[\"timestamp\"])\n",
    "\n",
    "\n",
    "df[\"timestamp\"] = pd.to_datetime(df[\"timestamp\"]).dt.date\n",
    "df"
   ]
  },
  {
   "cell_type": "code",
   "execution_count": null,
   "metadata": {},
   "outputs": [],
   "source": [
    "df[\"level\"].str.contains(\"E6\").any()"
   ]
  },
  {
   "cell_type": "code",
   "execution_count": null,
   "metadata": {},
   "outputs": [],
   "source": [
    "#Nuevo Dataframe con el top20 de empresas\n",
    "\n",
    "top_20_companies = df[\"company\"].value_counts().nlargest(20).index\n",
    "top_20_companies\n",
    "\n",
    "top_20_df = df[df[\"company\"].isin(top_20_companies)].copy()\n",
    "top_20_df[\"totalyearlycompensation\"].describe()"
   ]
  },
  {
   "cell_type": "code",
   "execution_count": null,
   "metadata": {},
   "outputs": [],
   "source": [
    "top_20_df[\"title\"].nunique()"
   ]
  },
  {
   "cell_type": "code",
   "execution_count": null,
   "metadata": {},
   "outputs": [],
   "source": [
    "top_20_df[\"title\"] = df[\"title\"].str.lower()\n",
    "top_20_df[\"title\"].nunique()"
   ]
  },
  {
   "cell_type": "code",
   "execution_count": null,
   "metadata": {},
   "outputs": [],
   "source": [
    "#Columna de IDs\n",
    "\n",
    "top_20_df.insert(0, \"id\", range(1, len(top_20_df)+1))\n",
    "top_20_df"
   ]
  },
  {
   "cell_type": "code",
   "execution_count": null,
   "metadata": {},
   "outputs": [],
   "source": [
    "top_20_df.to_csv(\"../Databases/top_20.csv\", index=False)"
   ]
  }
 ],
 "metadata": {
  "language_info": {
   "name": "python"
  },
  "orig_nbformat": 4
 },
 "nbformat": 4,
 "nbformat_minor": 2
}
