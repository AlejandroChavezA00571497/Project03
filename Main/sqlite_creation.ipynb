{
 "cells": [
  {
   "cell_type": "code",
   "execution_count": null,
   "metadata": {},
   "outputs": [],
   "source": [
    "import csv\n",
    "import sqlite3"
   ]
  },
  {
   "cell_type": "code",
   "execution_count": null,
   "metadata": {},
   "outputs": [],
   "source": [
    "INPUT_CSV_PATH = '../Databases/top20.csv'\n",
    "OUTPUT_SQLITE_PATH = '../Databases/top20_pk.sqlite'"
   ]
  },
  {
   "cell_type": "code",
   "execution_count": null,
   "metadata": {},
   "outputs": [],
   "source": [
    "try:\n",
    " \n",
    "    # Import csv and extract data\n",
    "    with open(INPUT_CSV_PATH, 'r') as fin:\n",
    "        dr = csv.DictReader(fin)\n",
    "        all_info = [(i['id'], i['timestamp'], i['company'], i['level'], i['title'], i['totalyearlycompensation'], i['location'], i['yearsofexperience'], i['yearsatcompany'], i['tag'], i['gender'], i['cityid'], i['dmaid'], i['rownumber'], i['mastersdegree'], i['bachelorsdegree'], i['doctoratedegree'], i['raceasian'], i['racewhite'], i['racetwoormore'], i['raceblack'], i['racehispanic']) for i in dr]\n",
    "        print(all_info)\n",
    " \n",
    "    # Connect to SQLite\n",
    "    sqliteConnection = sqlite3.connect(OUTPUT_SQLITE_PATH)\n",
    "    cursor = sqliteConnection.cursor()\n",
    " \n",
    "    # Create student table\n",
    "    cursor.execute('create table top20(id int PRIMARY KEY, timestamp date, company VARCHAR, level VARCHAR, title VARCHAR, totalyearlycompensation int, location VARCHAR, yearsofexperience FLOAT, yearsatcompany FLOAT, tag VARCHAR, gender VARCHAR, cityid int, dmaid FLOAT, rownumber int, mastersdegree BOOLEAN, bachelorsdegree BOOLEAN, doctoratedegree BOOLEAN, raceasian BOOLEAN, racewhite BOOLEAN, racetwoormore BOOLEAN, raceblack BOOLEAN, racehispanic BOOLEAN);')\n",
    " \n",
    "    # Insert data into table\n",
    "    cursor.executemany(\n",
    "        \"insert into top20 (id, timestamp, company, level, title, totalyearlycompensation, location, yearsofexperience, yearsatcompany, tag, gender, cityid, dmaid, rownumber, mastersdegree, bachelorsdegree, doctoratedegree, raceasian, racewhite, racetwoormore, raceblack, racehispanic) VALUES (?, ?, ?, ?, ?, ?, ?, ?, ?, ?, ?, ?, ?, ?, ?, ?, ?, ?, ?, ?, ?, ?);\", all_info)\n",
    " \n",
    "    # Show student table\n",
    "    cursor.execute('select * from top20;')\n",
    " \n",
    "    # View result\n",
    "    result = cursor.fetchall()\n",
    "    print(result)\n",
    " \n",
    "    # Commit work and close connection\n",
    "    sqliteConnection.commit()\n",
    "    cursor.close()\n",
    " \n",
    "except sqlite3.Error as error:\n",
    "    print('Error occurred - ', error)\n",
    " \n",
    "finally:\n",
    "    if sqliteConnection:\n",
    "        sqliteConnection.close()\n",
    "        print('SQLite Connection closed')"
   ]
  },
  {
   "cell_type": "code",
   "execution_count": null,
   "metadata": {},
   "outputs": [],
   "source": [
    "conn = sqlite3.connect(OUTPUT_SQLITE_PATH)\n",
    "\n",
    "# Create a cursor object\n",
    "cursor = conn.cursor()\n",
    "\n",
    "# Execute the query\n",
    "cursor.execute(\"SELECT name FROM sqlite_master WHERE type='table' AND name='top20'\")\n",
    "\n",
    "# Fetch the result\n",
    "result = cursor.fetchone()\n",
    "\n",
    "# Check if the result is not None\n",
    "if result is not None:\n",
    "    print(\"The 'top20' table exists.\")\n",
    "else:\n",
    "    print(\"The 'top20' table does not exist.\")\n",
    "\n",
    "# Close the connection\n",
    "conn.close()"
   ]
  }
 ],
 "metadata": {
  "language_info": {
   "name": "python"
  },
  "orig_nbformat": 4
 },
 "nbformat": 4,
 "nbformat_minor": 2
}
